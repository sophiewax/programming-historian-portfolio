{
 "cells": [
  {
   "cell_type": "code",
   "execution_count": null,
   "id": "fe787ee8-df56-4d73-a395-f83bcff1a1d3",
   "metadata": {},
   "outputs": [],
   "source": [
    "!pip install pandas\n",
    "!pip install nltk\n",
    "!pip install scikit-learn\n",
    "import os\n",
    "import nltk\n",
    "from nltk.corpus import stopwords\n",
    "import string\n",
    "\n",
    "# Download stopwords\n",
    "nltk.download('stopwords')\n",
    "stop_words = set(stopwords.words('english'))\n",
    "\n",
    "def preprocess(text):\n",
    "    # Lowercase\n",
    "    text = text.lower()\n",
    "    # Remove punctuation\n",
    "    text = text.translate(str.maketrans('', '', string.punctuation))\n",
    "    # Tokenize and remove stopwords\n",
    "    tokens = text.split()\n",
    "    tokens = [word for word in tokens if word not in stop_words]\n",
    "    return ' '.join(tokens)\n",
    "\n",
    "# Load documents\n",
    "documents = []\n",
    "for filename in os.listdir('path_to_documents'):\n",
    "    with open(os.path.join('path_to_documents', filename), 'r', encoding='utf-8') as file:\n",
    "        text = file.read()\n",
    "        documents.append(preprocess(text))"
   ]
  },
  {
   "cell_type": "code",
   "execution_count": null,
   "id": "1ac3ca03-c9f5-4c4c-8818-1e904351867f",
   "metadata": {},
   "outputs": [],
   "source": [
    "from sklearn.feature_extraction.text import TfidfVectorizer\n",
    "\n",
    "vectorizer = TfidfVectorizer()\n",
    "tfidf_matrix = vectorizer.fit_transform(documents)\n",
    "\n",
    "# Get feature names\n",
    "feature_names = vectorizer.get_feature_names_out()\n"
   ]
  },
  {
   "cell_type": "code",
   "execution_count": null,
   "id": "889bc8cd-d3c8-4dd9-b5fb-d598eae575d2",
   "metadata": {},
   "outputs": [],
   "source": [
    "import pandas as pd\n",
    "\n",
    "from sklearn.feature_extraction.text import TfidfVectorizer\n",
    "\n",
    "# Example list of sample documents\n",
    "documents = [\n",
    "    \"The sky is blue and beautiful.\",\n",
    "    \"Love this blue and bright sky!\",\n",
    "    \"The quick brown fox jumps over the lazy dog.\",\n",
    "    \"A king’s breakfast has sausages, ham, bacon, eggs, toast and beans\",\n",
    "]\n",
    "\n",
    "vectorizer = TfidfVectorizer()\n",
    "tfidf_matrix = vectorizer.fit_transform(documents)\n",
    "feature_names = vectorizer.get_feature_names_out()\n",
    "\n",
    "# Convert to dense matrix\n",
    "dense = tfidf_matrix.todense()\n",
    "\n",
    "# Create DataFrame\n",
    "df = pd.DataFrame(dense, columns=feature_names)\n",
    "df.head()\n",
    "\n",
    "# Display top terms for the first document\n",
    "top_terms = df.iloc[0].sort_values(ascending=False).head(10)\n",
    "print(top_terms)\n"
   ]
  },
  {
   "cell_type": "code",
   "execution_count": null,
   "id": "8ea0e220-871a-4ee4-9195-30b827b6ed1e",
   "metadata": {},
   "outputs": [],
   "source": []
  },
  {
   "cell_type": "code",
   "execution_count": null,
   "id": "cfe06148-f031-479c-9789-e9bf212dd13f",
   "metadata": {},
   "outputs": [],
   "source": []
  }
 ],
 "metadata": {
  "kernelspec": {
   "display_name": "Python 3 (ipykernel)",
   "language": "python",
   "name": "python3"
  },
  "language_info": {
   "codemirror_mode": {
    "name": "ipython",
    "version": 3
   },
   "file_extension": ".py",
   "mimetype": "text/x-python",
   "name": "python",
   "nbconvert_exporter": "python",
   "pygments_lexer": "ipython3",
   "version": "3.12.5"
  }
 },
 "nbformat": 4,
 "nbformat_minor": 5
}
