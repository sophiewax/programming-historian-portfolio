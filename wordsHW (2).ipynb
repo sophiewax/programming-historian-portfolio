{
 "cells": [
  {
   "cell_type": "code",
   "execution_count": null,
   "id": "7a5b45ef-c0fb-40e4-9939-9d4b3d79ef10",
   "metadata": {},
   "outputs": [],
   "source": [
    "from collections import Counter\n",
    "import string\n",
    "import urllib.request\n",
    "\n",
    "def read_file(file_path):\n",
    "    \"\"\"Reads a text file and returns its content as a string.\"\"\"\n",
    "    with open(file_path, 'r', encoding='utf-8') as file:\n",
    "        return file.read()\n",
    "\n",
    "def fetch_text_from_url(url):\n",
    "    \"\"\"Fetches text from a given URL.\"\"\"\n",
    "    response = urllib.request.urlopen(url)\n",
    "    return response.read().decode('utf-8')\n",
    "\n",
    "def clean_text(text):\n",
    "    \"\"\"Removes punctuation and converts text to lowercase.\"\"\"\n",
    "    text = text.lower()\n",
    "    text = text.translate(str.maketrans('', '', string.punctuation))\n",
    "    return text\n",
    "\n",
    "def count_words(text):\n",
    "    \"\"\"Counts the frequency of words in the given text using Counter.\"\"\"\n",
    "    words = text.split()\n",
    "    return Counter(words)\n",
    "\n",
    "def remove_stopwords(word_counts, stopwords):\n",
    "    \"\"\"Removes common stop words from the word frequency dictionary.\"\"\"\n",
    "    return Counter({word: count for word, count in word_counts.items() if word not in stopwords})\n",
    "\n",
    "def main():\n",
    "    file_path = \"sample.txt\"  # Change to your text file path\n",
    "    text = read_file(file_path)\n",
    "    cleaned_text = clean_text(text)\n",
    "    word_counts = count_words(cleaned_text)\n",
    "    \n",
    "    # Define stopwords (can be expanded)\n",
    "    stopwords = {\"the\", \"of\", \"to\", \"and\", \"a\", \"in\", \"is\", \"it\", \"you\", \"that\"}\n",
    "    filtered_counts = remove_stopwords(word_counts, stopwords)\n",
    "    \n",
    "    # Display 10 most common words (excluding stopwords)\n",
    "    print(\"Top 10 most common words:\")\n",
    "    for word, count in filtered_counts.most_common(10):\n",
    "        print(f\"{word}: {count}\")\n",
    "\n",
    "if __name__ == \"__main__\":\n",
    "    main()"
   ]
  }
 ],
 "metadata": {
  "kernelspec": {
   "display_name": "Python 3 (ipykernel)",
   "language": "python",
   "name": "python3"
  },
  "language_info": {
   "codemirror_mode": {
    "name": "ipython",
    "version": 3
   },
   "file_extension": ".py",
   "mimetype": "text/x-python",
   "name": "python",
   "nbconvert_exporter": "python",
   "pygments_lexer": "ipython3",
   "version": "3.12.5"
  }
 },
 "nbformat": 4,
 "nbformat_minor": 5
}
