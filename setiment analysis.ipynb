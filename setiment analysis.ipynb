{
 "cells": [
  {
   "cell_type": "code",
   "execution_count": null,
   "id": "e9390fbd-3cf5-4aee-b423-c4bd5dd74225",
   "metadata": {},
   "outputs": [],
   "source": [
    "!pip install nltk pandas matplotlib\n",
    "import nltk\n",
    "nltk.download('vader_lexicon')\n",
    "import pandas as pd\n",
    "import matplotlib.pyplot as plt\n",
    "import nltk\n",
    "from nltk.sentiment import SentimentIntensityAnalyzer\n",
    "\n",
    "nltk.download('vader_lexicon')\n"
   ]
  },
  {
   "cell_type": "code",
   "execution_count": null,
   "id": "3de48ea2-f70e-42c6-b7c5-988ce237c739",
   "metadata": {},
   "outputs": [],
   "source": [
    "sia = SentimentIntensityAnalyzer()\n"
   ]
  },
  {
   "cell_type": "code",
   "execution_count": null,
   "id": "d6c82e27-05b1-4650-a7be-4ac732cf8895",
   "metadata": {},
   "outputs": [],
   "source": [
    "#example text\n",
    "texts = [\n",
    "    \"I love sunny days!\",\n",
    "    \"I hate when it rains.\",\n",
    "    \"This class is awesome!\",\n",
    "    \"I'm feeling sad about the news.\",\n",
    "    \"That movie was okay, not great.\"\n",
    "]\n"
   ]
  },
  {
   "cell_type": "code",
   "execution_count": null,
   "id": "2f884706-42e2-48cd-b7c3-1b1924337663",
   "metadata": {},
   "outputs": [],
   "source": [
    "results = []\n",
    "\n",
    "for text in texts:\n",
    "    sentiment = sia.polarity_scores(text)\n",
    "    results.append(sentiment)\n",
    "\n",
    "df = pd.DataFrame(results)\n",
    "df['text'] = texts\n",
    "df\n"
   ]
  },
  {
   "cell_type": "code",
   "execution_count": null,
   "id": "1d73a383-5011-415b-a44e-6f2afcf7fa78",
   "metadata": {},
   "outputs": [],
   "source": [
    "plt.figure(figsize=(10,6))\n",
    "plt.barh(df['text'], df['compound'], color='skyblue')\n",
    "plt.xlabel('Compound Sentiment Score')\n",
    "plt.title('Sentiment Analysis of Texts')\n",
    "plt.grid()\n",
    "plt.show()\n"
   ]
  }
 ],
 "metadata": {
  "kernelspec": {
   "display_name": "Python 3 (ipykernel)",
   "language": "python",
   "name": "python3"
  },
  "language_info": {
   "codemirror_mode": {
    "name": "ipython",
    "version": 3
   },
   "file_extension": ".py",
   "mimetype": "text/x-python",
   "name": "python",
   "nbconvert_exporter": "python",
   "pygments_lexer": "ipython3",
   "version": "3.12.5"
  }
 },
 "nbformat": 4,
 "nbformat_minor": 5
}
